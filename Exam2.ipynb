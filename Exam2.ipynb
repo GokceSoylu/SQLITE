{
 "cells": [
  {
   "cell_type": "code",
   "execution_count": 1,
   "metadata": {},
   "outputs": [],
   "source": [
    "load_ext sql\n"
   ]
  },
  {
   "cell_type": "code",
   "execution_count": 2,
   "metadata": {},
   "outputs": [],
   "source": [
    "sql sqlite:///data_set.db"
   ]
  },
  {
   "cell_type": "markdown",
   "metadata": {},
   "source": [
    "# Müşteri Adreslerinin İçerisinde 'da' ifadesi geçen Tüm Adresleri Yazdırınız"
   ]
  },
  {
   "cell_type": "code",
   "execution_count": 3,
   "metadata": {},
   "outputs": [
    {
     "name": "stdout",
     "output_type": "stream",
     "text": [
      " * sqlite:///data_set.db\n",
      "Done.\n"
     ]
    },
    {
     "data": {
      "text/html": [
       "<table>\n",
       "    <thead>\n",
       "        <tr>\n",
       "            <th>CustomerID</th>\n",
       "            <th>CustomerName</th>\n",
       "            <th>ContactName</th>\n",
       "            <th>Address</th>\n",
       "            <th>City</th>\n",
       "            <th>PostalCode</th>\n",
       "            <th>Country</th>\n",
       "        </tr>\n",
       "    </thead>\n",
       "    <tbody>\n",
       "        <tr>\n",
       "            <td>1</td>\n",
       "            <td>Alfreds Futterkiste</td>\n",
       "            <td>Maria Anders</td>\n",
       "            <td>Obere Str. 57</td>\n",
       "            <td>Berlin</td>\n",
       "            <td>12209</td>\n",
       "            <td>Germany</td>\n",
       "        </tr>\n",
       "        <tr>\n",
       "            <td>2</td>\n",
       "            <td>Ana Trujillo Emparedados y helados</td>\n",
       "            <td>Ana Trujillo</td>\n",
       "            <td>Avda. de la Constitución 2222</td>\n",
       "            <td>México D.F.</td>\n",
       "            <td>5021</td>\n",
       "            <td>Mexico</td>\n",
       "        </tr>\n",
       "        <tr>\n",
       "            <td>3</td>\n",
       "            <td>Antonio Moreno Taquería</td>\n",
       "            <td>Antonio Moreno</td>\n",
       "            <td>Mataderos 2312</td>\n",
       "            <td>México D.F.</td>\n",
       "            <td>5023</td>\n",
       "            <td>Mexico</td>\n",
       "        </tr>\n",
       "    </tbody>\n",
       "</table>"
      ],
      "text/plain": [
       "[(1, 'Alfreds Futterkiste', 'Maria Anders', 'Obere Str. 57', 'Berlin', '12209', 'Germany'),\n",
       " (2, 'Ana Trujillo Emparedados y helados', 'Ana Trujillo', 'Avda. de la Constitución 2222', 'México D.F.', '5021', 'Mexico'),\n",
       " (3, 'Antonio Moreno Taquería', 'Antonio Moreno', 'Mataderos 2312', 'México D.F.', '5023', 'Mexico')]"
      ]
     },
     "execution_count": 3,
     "metadata": {},
     "output_type": "execute_result"
    }
   ],
   "source": [
    "%%sql\n",
    "SELECT * FROM Customers LIMIT 3;"
   ]
  },
  {
   "cell_type": "code",
   "execution_count": 4,
   "metadata": {},
   "outputs": [
    {
     "name": "stdout",
     "output_type": "stream",
     "text": [
      " * sqlite:///data_set.db\n",
      "Done.\n"
     ]
    },
    {
     "data": {
      "text/html": [
       "<table>\n",
       "    <thead>\n",
       "        <tr>\n",
       "            <th>CustomerID</th>\n",
       "            <th>CustomerName</th>\n",
       "            <th>Address</th>\n",
       "        </tr>\n",
       "    </thead>\n",
       "    <tbody>\n",
       "        <tr>\n",
       "            <td>2</td>\n",
       "            <td>Ana Trujillo Emparedados y helados</td>\n",
       "            <td>Avda. de la Constitución 2222</td>\n",
       "        </tr>\n",
       "        <tr>\n",
       "            <td>13</td>\n",
       "            <td>Centro comercial Moctezuma</td>\n",
       "            <td>Sierras de Granada 9993</td>\n",
       "        </tr>\n",
       "        <tr>\n",
       "            <td>15</td>\n",
       "            <td>Comércio Mineiro</td>\n",
       "            <td>Av. dos Lusíadas, 23</td>\n",
       "        </tr>\n",
       "        <tr>\n",
       "            <td>28</td>\n",
       "            <td>Furia Bacalhau e Frutos do Mar</td>\n",
       "            <td>Jardim das rosas n. 32</td>\n",
       "        </tr>\n",
       "        <tr>\n",
       "            <td>54</td>\n",
       "            <td>Océano Atlántico Ltda.</td>\n",
       "            <td>Ing. Gustavo Moncada 8585 Piso 20-A</td>\n",
       "        </tr>\n",
       "        <tr>\n",
       "            <td>60</td>\n",
       "            <td>Princesa Isabel Vinhoss</td>\n",
       "            <td>Estrada da saúde n. 58</td>\n",
       "        </tr>\n",
       "        <tr>\n",
       "            <td>61</td>\n",
       "            <td>Que Delícia</td>\n",
       "            <td>Rua da Panificadora, 12</td>\n",
       "        </tr>\n",
       "        <tr>\n",
       "            <td>62</td>\n",
       "            <td>Queen Cozinha</td>\n",
       "            <td>Alameda dos Canàrios, 891</td>\n",
       "        </tr>\n",
       "        <tr>\n",
       "            <td>66</td>\n",
       "            <td>Reggiani Caseifici</td>\n",
       "            <td>Strada Provinciale 124</td>\n",
       "        </tr>\n",
       "        <tr>\n",
       "            <td>80</td>\n",
       "            <td>Tortuga Restaurante</td>\n",
       "            <td>Avda. Azteca 123</td>\n",
       "        </tr>\n",
       "        <tr>\n",
       "            <td>82</td>\n",
       "            <td>Trail&#x27;s Head Gourmet Provisioners</td>\n",
       "            <td>722 DaVinci Blvd.</td>\n",
       "        </tr>\n",
       "    </tbody>\n",
       "</table>"
      ],
      "text/plain": [
       "[(2, 'Ana Trujillo Emparedados y helados', 'Avda. de la Constitución 2222'),\n",
       " (13, 'Centro comercial Moctezuma', 'Sierras de Granada 9993'),\n",
       " (15, 'Comércio Mineiro', 'Av. dos Lusíadas, 23'),\n",
       " (28, 'Furia Bacalhau e Frutos do Mar', 'Jardim das rosas n. 32'),\n",
       " (54, 'Océano Atlántico Ltda.', 'Ing. Gustavo Moncada 8585 Piso 20-A'),\n",
       " (60, 'Princesa Isabel Vinhoss', 'Estrada da saúde n. 58'),\n",
       " (61, 'Que Delícia', 'Rua da Panificadora, 12'),\n",
       " (62, 'Queen Cozinha', 'Alameda dos Canàrios, 891'),\n",
       " (66, 'Reggiani Caseifici', 'Strada Provinciale 124'),\n",
       " (80, 'Tortuga Restaurante', 'Avda. Azteca 123'),\n",
       " (82, \"Trail's Head Gourmet Provisioners\", '722 DaVinci Blvd.')]"
      ]
     },
     "execution_count": 4,
     "metadata": {},
     "output_type": "execute_result"
    }
   ],
   "source": [
    "%%sql\n",
    "SELECT CustomerID, CustomerName, Address FROM Customers WHERE Address LIKE '%da%';"
   ]
  },
  {
   "cell_type": "code",
   "execution_count": 5,
   "metadata": {},
   "outputs": [],
   "source": [
    "#bunun sayısını nasıl bulabiliriz?"
   ]
  },
  {
   "cell_type": "markdown",
   "metadata": {},
   "source": [
    "# Germany/Berlin'de Yaşayan Müşterilerin İsimleri Nelerdir?"
   ]
  },
  {
   "cell_type": "code",
   "execution_count": 6,
   "metadata": {},
   "outputs": [
    {
     "name": "stdout",
     "output_type": "stream",
     "text": [
      " * sqlite:///data_set.db\n",
      "Done.\n"
     ]
    },
    {
     "data": {
      "text/html": [
       "<table>\n",
       "    <thead>\n",
       "        <tr>\n",
       "            <th>CustomerName</th>\n",
       "        </tr>\n",
       "    </thead>\n",
       "    <tbody>\n",
       "        <tr>\n",
       "            <td>Alfreds Futterkiste</td>\n",
       "        </tr>\n",
       "    </tbody>\n",
       "</table>"
      ],
      "text/plain": [
       "[('Alfreds Futterkiste',)]"
      ]
     },
     "execution_count": 6,
     "metadata": {},
     "output_type": "execute_result"
    }
   ],
   "source": [
    "%%sql\n",
    "SELECT CustomerName From Customers WHERE Country=\"Germany\" AND City=\"Berlin\";"
   ]
  },
  {
   "cell_type": "markdown",
   "metadata": {},
   "source": [
    "# Canada'da Yaşayıp İsminde 'in' İfadesi Geçen Müşterilerileri Yazdiriniz"
   ]
  },
  {
   "cell_type": "code",
   "execution_count": 7,
   "metadata": {},
   "outputs": [
    {
     "name": "stdout",
     "output_type": "stream",
     "text": [
      " * sqlite:///data_set.db\n",
      "Done.\n"
     ]
    },
    {
     "data": {
      "text/html": [
       "<table>\n",
       "    <thead>\n",
       "        <tr>\n",
       "            <th>CustomerID</th>\n",
       "            <th>CustomerName</th>\n",
       "            <th>ContactName</th>\n",
       "            <th>Address</th>\n",
       "            <th>City</th>\n",
       "            <th>PostalCode</th>\n",
       "            <th>Country</th>\n",
       "        </tr>\n",
       "    </thead>\n",
       "    <tbody>\n",
       "        <tr>\n",
       "            <td>42</td>\n",
       "            <td>Laughing Bacchus Wine Cellars</td>\n",
       "            <td>Yoshi Tannamuri</td>\n",
       "            <td>1900 Oak St.</td>\n",
       "            <td>Vancouver</td>\n",
       "            <td>V3F 2K1</td>\n",
       "            <td>Canada</td>\n",
       "        </tr>\n",
       "    </tbody>\n",
       "</table>"
      ],
      "text/plain": [
       "[(42, 'Laughing Bacchus Wine Cellars', 'Yoshi Tannamuri', '1900 Oak St.', 'Vancouver', 'V3F 2K1', 'Canada')]"
      ]
     },
     "execution_count": 7,
     "metadata": {},
     "output_type": "execute_result"
    }
   ],
   "source": [
    "%%sql\n",
    "SELECT * FROM Customers WHERE Country=\"Canada\" AND CustomerName LIKE '%in%';"
   ]
  },
  {
   "cell_type": "markdown",
   "metadata": {},
   "source": [
    "# Fiyati 40-90 Arasında Olan Ürünlerin Fiyatlarını ve İsimlerini Yazdırınız"
   ]
  },
  {
   "cell_type": "code",
   "execution_count": 8,
   "metadata": {},
   "outputs": [
    {
     "name": "stdout",
     "output_type": "stream",
     "text": [
      " * sqlite:///data_set.db\n",
      "Done.\n"
     ]
    },
    {
     "data": {
      "text/html": [
       "<table>\n",
       "    <thead>\n",
       "        <tr>\n",
       "            <th>ProductID</th>\n",
       "            <th>ProductName</th>\n",
       "            <th>SupplierID</th>\n",
       "            <th>CategoryID</th>\n",
       "            <th>Unit</th>\n",
       "            <th>Price</th>\n",
       "        </tr>\n",
       "    </thead>\n",
       "    <tbody>\n",
       "        <tr>\n",
       "            <td>1</td>\n",
       "            <td>Chais</td>\n",
       "            <td>1</td>\n",
       "            <td>1</td>\n",
       "            <td>10 boxes x 20 bags</td>\n",
       "            <td>18</td>\n",
       "        </tr>\n",
       "        <tr>\n",
       "            <td>2</td>\n",
       "            <td>Chang</td>\n",
       "            <td>1</td>\n",
       "            <td>1</td>\n",
       "            <td>24 - 12 oz bottles</td>\n",
       "            <td>19</td>\n",
       "        </tr>\n",
       "    </tbody>\n",
       "</table>"
      ],
      "text/plain": [
       "[(1, 'Chais', 1, 1, '10 boxes x 20 bags', 18),\n",
       " (2, 'Chang', 1, 1, '24 - 12 oz bottles', 19)]"
      ]
     },
     "execution_count": 8,
     "metadata": {},
     "output_type": "execute_result"
    }
   ],
   "source": [
    "%%sql\n",
    "SELECT * FROM Products LIMIT 2;"
   ]
  },
  {
   "cell_type": "code",
   "execution_count": 9,
   "metadata": {},
   "outputs": [
    {
     "name": "stdout",
     "output_type": "stream",
     "text": [
      " * sqlite:///data_set.db\n",
      "Done.\n"
     ]
    },
    {
     "data": {
      "text/html": [
       "<table>\n",
       "    <thead>\n",
       "        <tr>\n",
       "            <th>ProductName</th>\n",
       "            <th>Price</th>\n",
       "        </tr>\n",
       "    </thead>\n",
       "    <tbody>\n",
       "        <tr>\n",
       "            <td>Northwoods Cranberry Sauce</td>\n",
       "            <td>40</td>\n",
       "        </tr>\n",
       "        <tr>\n",
       "            <td>Genen Shouyu</td>\n",
       "            <td>43</td>\n",
       "        </tr>\n",
       "        <tr>\n",
       "            <td>Carnarvon Tigers</td>\n",
       "            <td>62</td>\n",
       "        </tr>\n",
       "        <tr>\n",
       "            <td>Teatime Chocolate Biscuits</td>\n",
       "            <td>43</td>\n",
       "        </tr>\n",
       "        <tr>\n",
       "            <td>Sir Rodney&#x27;s Marmalade</td>\n",
       "            <td>81</td>\n",
       "        </tr>\n",
       "        <tr>\n",
       "            <td>Guaraná Fantástica</td>\n",
       "            <td>43</td>\n",
       "        </tr>\n",
       "        <tr>\n",
       "            <td>Schoggi Schokolade</td>\n",
       "            <td>43</td>\n",
       "        </tr>\n",
       "        <tr>\n",
       "            <td>Rössle Sauerkraut</td>\n",
       "            <td>45</td>\n",
       "        </tr>\n",
       "        <tr>\n",
       "            <td>Geitost</td>\n",
       "            <td>43</td>\n",
       "        </tr>\n",
       "        <tr>\n",
       "            <td>Boston Crab Meat</td>\n",
       "            <td>43</td>\n",
       "        </tr>\n",
       "        <tr>\n",
       "            <td>Ipoh Coffee</td>\n",
       "            <td>46</td>\n",
       "        </tr>\n",
       "        <tr>\n",
       "            <td>Røgede sild</td>\n",
       "            <td>43</td>\n",
       "        </tr>\n",
       "        <tr>\n",
       "            <td>Zaanse koeken</td>\n",
       "            <td>43</td>\n",
       "        </tr>\n",
       "        <tr>\n",
       "            <td>Manjimup Dried Apples</td>\n",
       "            <td>53</td>\n",
       "        </tr>\n",
       "        <tr>\n",
       "            <td>Ravioli Angelo</td>\n",
       "            <td>43</td>\n",
       "        </tr>\n",
       "        <tr>\n",
       "            <td>Raclette Courdavault</td>\n",
       "            <td>55</td>\n",
       "        </tr>\n",
       "        <tr>\n",
       "            <td>Sirop d&#x27;érable</td>\n",
       "            <td>43</td>\n",
       "        </tr>\n",
       "        <tr>\n",
       "            <td>Tarte au sucre</td>\n",
       "            <td>49</td>\n",
       "        </tr>\n",
       "        <tr>\n",
       "            <td>Vegie-spread</td>\n",
       "            <td>43</td>\n",
       "        </tr>\n",
       "        <tr>\n",
       "            <td>Louisiana Fiery Hot Pepper Sauce</td>\n",
       "            <td>43</td>\n",
       "        </tr>\n",
       "        <tr>\n",
       "            <td>Scottish Longbreads</td>\n",
       "            <td>45</td>\n",
       "        </tr>\n",
       "    </tbody>\n",
       "</table>"
      ],
      "text/plain": [
       "[('Northwoods Cranberry Sauce', 40),\n",
       " ('Genen Shouyu', 43),\n",
       " ('Carnarvon Tigers', 62),\n",
       " ('Teatime Chocolate Biscuits', 43),\n",
       " (\"Sir Rodney's Marmalade\", 81),\n",
       " ('Guaraná Fantástica', 43),\n",
       " ('Schoggi Schokolade', 43),\n",
       " ('Rössle Sauerkraut', 45),\n",
       " ('Geitost', 43),\n",
       " ('Boston Crab Meat', 43),\n",
       " ('Ipoh Coffee', 46),\n",
       " ('Røgede sild', 43),\n",
       " ('Zaanse koeken', 43),\n",
       " ('Manjimup Dried Apples', 53),\n",
       " ('Ravioli Angelo', 43),\n",
       " ('Raclette Courdavault', 55),\n",
       " (\"Sirop d'érable\", 43),\n",
       " ('Tarte au sucre', 49),\n",
       " ('Vegie-spread', 43),\n",
       " ('Louisiana Fiery Hot Pepper Sauce', 43),\n",
       " ('Scottish Longbreads', 45)]"
      ]
     },
     "execution_count": 9,
     "metadata": {},
     "output_type": "execute_result"
    }
   ],
   "source": [
    "%%sql\n",
    "SELECT PRoductName, Price FROM Products WHERE Price BETWEEN 40 AND 90;"
   ]
  },
  {
   "cell_type": "markdown",
   "metadata": {},
   "source": [
    "# Fıyatı 30₺ den büyük olan ürünlerin isimlerini, fiyatlarını ve fiyatlatın karesinin yazdırınız."
   ]
  },
  {
   "cell_type": "code",
   "execution_count": 15,
   "metadata": {},
   "outputs": [
    {
     "name": "stdout",
     "output_type": "stream",
     "text": [
      " * sqlite:///data_set.db\n",
      "Done.\n"
     ]
    },
    {
     "data": {
      "text/html": [
       "<table>\n",
       "    <thead>\n",
       "        <tr>\n",
       "            <th>urun_adi</th>\n",
       "            <th>fiyat</th>\n",
       "            <th>fiyat_kare</th>\n",
       "        </tr>\n",
       "    </thead>\n",
       "    <tbody>\n",
       "        <tr>\n",
       "            <td>Northwoods Cranberry Sauce</td>\n",
       "            <td>40</td>\n",
       "            <td>80</td>\n",
       "        </tr>\n",
       "        <tr>\n",
       "            <td>Mishi Kobe Niku</td>\n",
       "            <td>97</td>\n",
       "            <td>194</td>\n",
       "        </tr>\n",
       "        <tr>\n",
       "            <td>Ikura</td>\n",
       "            <td>31</td>\n",
       "            <td>62</td>\n",
       "        </tr>\n",
       "        <tr>\n",
       "            <td>Queso Manchego La Pastora</td>\n",
       "            <td>38</td>\n",
       "            <td>76</td>\n",
       "        </tr>\n",
       "        <tr>\n",
       "            <td>Genen Shouyu</td>\n",
       "            <td>43</td>\n",
       "            <td>86</td>\n",
       "        </tr>\n",
       "        <tr>\n",
       "            <td>Alice Mutton</td>\n",
       "            <td>39</td>\n",
       "            <td>78</td>\n",
       "        </tr>\n",
       "        <tr>\n",
       "            <td>Carnarvon Tigers</td>\n",
       "            <td>62</td>\n",
       "            <td>124</td>\n",
       "        </tr>\n",
       "        <tr>\n",
       "            <td>Teatime Chocolate Biscuits</td>\n",
       "            <td>43</td>\n",
       "            <td>86</td>\n",
       "        </tr>\n",
       "        <tr>\n",
       "            <td>Sir Rodney&#x27;s Marmalade</td>\n",
       "            <td>81</td>\n",
       "            <td>162</td>\n",
       "        </tr>\n",
       "        <tr>\n",
       "            <td>Guaraná Fantástica</td>\n",
       "            <td>43</td>\n",
       "            <td>86</td>\n",
       "        </tr>\n",
       "        <tr>\n",
       "            <td>Gumbär Gummibärchen</td>\n",
       "            <td>31</td>\n",
       "            <td>62</td>\n",
       "        </tr>\n",
       "        <tr>\n",
       "            <td>Schoggi Schokolade</td>\n",
       "            <td>43</td>\n",
       "            <td>86</td>\n",
       "        </tr>\n",
       "        <tr>\n",
       "            <td>Rössle Sauerkraut</td>\n",
       "            <td>45</td>\n",
       "            <td>90</td>\n",
       "        </tr>\n",
       "        <tr>\n",
       "            <td>Thüringer Rostbratwurst</td>\n",
       "            <td>123</td>\n",
       "            <td>246</td>\n",
       "        </tr>\n",
       "        <tr>\n",
       "            <td>Gorgonzola Telino</td>\n",
       "            <td>435</td>\n",
       "            <td>870</td>\n",
       "        </tr>\n",
       "        <tr>\n",
       "            <td>Mascarpone Fabioli</td>\n",
       "            <td>32</td>\n",
       "            <td>64</td>\n",
       "        </tr>\n",
       "        <tr>\n",
       "            <td>Geitost</td>\n",
       "            <td>43</td>\n",
       "            <td>86</td>\n",
       "        </tr>\n",
       "        <tr>\n",
       "            <td>Côte de Blaye</td>\n",
       "            <td>263</td>\n",
       "            <td>526</td>\n",
       "        </tr>\n",
       "        <tr>\n",
       "            <td>Boston Crab Meat</td>\n",
       "            <td>43</td>\n",
       "            <td>86</td>\n",
       "        </tr>\n",
       "        <tr>\n",
       "            <td>Ipoh Coffee</td>\n",
       "            <td>46</td>\n",
       "            <td>92</td>\n",
       "        </tr>\n",
       "        <tr>\n",
       "            <td>Røgede sild</td>\n",
       "            <td>43</td>\n",
       "            <td>86</td>\n",
       "        </tr>\n",
       "        <tr>\n",
       "            <td>Zaanse koeken</td>\n",
       "            <td>43</td>\n",
       "            <td>86</td>\n",
       "        </tr>\n",
       "        <tr>\n",
       "            <td>Manjimup Dried Apples</td>\n",
       "            <td>53</td>\n",
       "            <td>106</td>\n",
       "        </tr>\n",
       "        <tr>\n",
       "            <td>Perth Pasties</td>\n",
       "            <td>32</td>\n",
       "            <td>64</td>\n",
       "        </tr>\n",
       "        <tr>\n",
       "            <td>Gnocchi di nonna Alice</td>\n",
       "            <td>38</td>\n",
       "            <td>76</td>\n",
       "        </tr>\n",
       "        <tr>\n",
       "            <td>Ravioli Angelo</td>\n",
       "            <td>43</td>\n",
       "            <td>86</td>\n",
       "        </tr>\n",
       "        <tr>\n",
       "            <td>Raclette Courdavault</td>\n",
       "            <td>55</td>\n",
       "            <td>110</td>\n",
       "        </tr>\n",
       "        <tr>\n",
       "            <td>Camembert Pierrot</td>\n",
       "            <td>34</td>\n",
       "            <td>68</td>\n",
       "        </tr>\n",
       "        <tr>\n",
       "            <td>Sirop d&#x27;érable</td>\n",
       "            <td>43</td>\n",
       "            <td>86</td>\n",
       "        </tr>\n",
       "        <tr>\n",
       "            <td>Tarte au sucre</td>\n",
       "            <td>49</td>\n",
       "            <td>98</td>\n",
       "        </tr>\n",
       "        <tr>\n",
       "            <td>Vegie-spread</td>\n",
       "            <td>43</td>\n",
       "            <td>86</td>\n",
       "        </tr>\n",
       "        <tr>\n",
       "            <td>Wimmers gute Semmelknödel</td>\n",
       "            <td>33</td>\n",
       "            <td>66</td>\n",
       "        </tr>\n",
       "        <tr>\n",
       "            <td>Louisiana Fiery Hot Pepper Sauce</td>\n",
       "            <td>43</td>\n",
       "            <td>86</td>\n",
       "        </tr>\n",
       "        <tr>\n",
       "            <td>Scottish Longbreads</td>\n",
       "            <td>45</td>\n",
       "            <td>90</td>\n",
       "        </tr>\n",
       "        <tr>\n",
       "            <td>Gudbrandsdalsost</td>\n",
       "            <td>36</td>\n",
       "            <td>72</td>\n",
       "        </tr>\n",
       "        <tr>\n",
       "            <td>Mozzarella di Giovanni</td>\n",
       "            <td>34</td>\n",
       "            <td>68</td>\n",
       "        </tr>\n",
       "    </tbody>\n",
       "</table>"
      ],
      "text/plain": [
       "[('Northwoods Cranberry Sauce', 40, 80),\n",
       " ('Mishi Kobe Niku', 97, 194),\n",
       " ('Ikura', 31, 62),\n",
       " ('Queso Manchego La Pastora', 38, 76),\n",
       " ('Genen Shouyu', 43, 86),\n",
       " ('Alice Mutton', 39, 78),\n",
       " ('Carnarvon Tigers', 62, 124),\n",
       " ('Teatime Chocolate Biscuits', 43, 86),\n",
       " (\"Sir Rodney's Marmalade\", 81, 162),\n",
       " ('Guaraná Fantástica', 43, 86),\n",
       " ('Gumbär Gummibärchen', 31, 62),\n",
       " ('Schoggi Schokolade', 43, 86),\n",
       " ('Rössle Sauerkraut', 45, 90),\n",
       " ('Thüringer Rostbratwurst', 123, 246),\n",
       " ('Gorgonzola Telino', 435, 870),\n",
       " ('Mascarpone Fabioli', 32, 64),\n",
       " ('Geitost', 43, 86),\n",
       " ('Côte de Blaye', 263, 526),\n",
       " ('Boston Crab Meat', 43, 86),\n",
       " ('Ipoh Coffee', 46, 92),\n",
       " ('Røgede sild', 43, 86),\n",
       " ('Zaanse koeken', 43, 86),\n",
       " ('Manjimup Dried Apples', 53, 106),\n",
       " ('Perth Pasties', 32, 64),\n",
       " ('Gnocchi di nonna Alice', 38, 76),\n",
       " ('Ravioli Angelo', 43, 86),\n",
       " ('Raclette Courdavault', 55, 110),\n",
       " ('Camembert Pierrot', 34, 68),\n",
       " (\"Sirop d'érable\", 43, 86),\n",
       " ('Tarte au sucre', 49, 98),\n",
       " ('Vegie-spread', 43, 86),\n",
       " ('Wimmers gute Semmelknödel', 33, 66),\n",
       " ('Louisiana Fiery Hot Pepper Sauce', 43, 86),\n",
       " ('Scottish Longbreads', 45, 90),\n",
       " ('Gudbrandsdalsost', 36, 72),\n",
       " ('Mozzarella di Giovanni', 34, 68)]"
      ]
     },
     "execution_count": 15,
     "metadata": {},
     "output_type": "execute_result"
    }
   ],
   "source": [
    "%%sql\n",
    "SELECT ProductName urun_adi, Price fiyat, Price*2 fiyat_kare FROM Products WHERE Price > 30; "
   ]
  },
  {
   "cell_type": "code",
   "execution_count": 16,
   "metadata": {},
   "outputs": [],
   "source": [
    "#direkt tablonun adını kısaltsaydık o zaman tüm satır boyunca yeni koısa adıyla kullanırdık ama burada değişkenin adını değiştiriyoruz"
   ]
  },
  {
   "cell_type": "code",
   "execution_count": null,
   "metadata": {},
   "outputs": [],
   "source": []
  }
 ],
 "metadata": {
  "kernelspec": {
   "display_name": "Python 3.9.6 64-bit",
   "language": "python",
   "name": "python3"
  },
  "language_info": {
   "codemirror_mode": {
    "name": "ipython",
    "version": 3
   },
   "file_extension": ".py",
   "mimetype": "text/x-python",
   "name": "python",
   "nbconvert_exporter": "python",
   "pygments_lexer": "ipython3",
   "version": "3.9.6"
  },
  "orig_nbformat": 4,
  "vscode": {
   "interpreter": {
    "hash": "31f2aee4e71d21fbe5cf8b01ff0e069b9275f58929596ceb00d14d90e3e16cd6"
   }
  }
 },
 "nbformat": 4,
 "nbformat_minor": 2
}
